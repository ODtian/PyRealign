{
 "cells": [
  {
   "cell_type": "code",
   "execution_count": 26,
   "id": "49e8221b",
   "metadata": {},
   "outputs": [
    {
     "name": "stdout",
     "output_type": "stream",
     "text": [
      "The autoreload extension is already loaded. To reload it, use:\n",
      "  %reload_ext autoreload\n"
     ]
    }
   ],
   "source": [
    "import itk\n",
    "import jax\n",
    "import jax.numpy as jnp\n",
    "\n",
    "from bspline import BSpline, Realign\n",
    "import nibabel as nib\n",
    "%load_ext autoreload\n",
    "%autoreload 2"
   ]
  },
  {
   "cell_type": "code",
   "execution_count": 2,
   "id": "a9476f2a",
   "metadata": {},
   "outputs": [],
   "source": [
    "def read_data(path):\n",
    "    data = itk.imread(path)\n",
    "\n",
    "    return data, jnp.array(itk.GetArrayFromImage(data))\n",
    "\n",
    "\n",
    "# with open(\"test.nii\", \"rb\") as f:\n",
    "#     data = f.read()\n",
    "# print(data)\n",
    "data, d = read_data(r\"data\\sub-Ey153_ses-3_task-rest_acq-EPI_run-1_bold.nii.gz\")"
   ]
  },
  {
   "cell_type": "code",
   "execution_count": 3,
   "id": "2b9236c3",
   "metadata": {},
   "outputs": [],
   "source": [
    "import time\n",
    "\n",
    "\n",
    "def main():\n",
    "\n",
    "    realign = Realign(\n",
    "        # r\"data\\sub-Ey153_ses-3_task-rest_acq-EPI_run-1_bold.nii.gz\",\n",
    "        r\"test.nii\",\n",
    "        degree=3,\n",
    "        iteration=4,\n",
    "        step=8,\n",
    "        alpha=0.15,\n",
    "        beta=1.65,\n",
    "    )\n",
    "    t1 = time.time()\n",
    "    # v = realign.estimate(1).reshape((-1, 8))\n",
    "    v = jax.vmap(realign.estimate, in_axes=0)(jnp.arange(1, 200))\n",
    "    # v = jax.vmap(realign.estimate, in_axes=0)(jnp.array((0, 0)))\n",
    "    print(\n",
    "        v,\n",
    "        f\"{time.time() - t1:.4f}\",\n",
    "    )\n",
    "    realign.draw_parameter(v)"
   ]
  },
  {
   "cell_type": "code",
   "execution_count": null,
   "id": "8508ddf9",
   "metadata": {},
   "outputs": [
    {
     "name": "stdout",
     "output_type": "stream",
     "text": [
      "[6.4 1.  3.  1. ]\n",
      "(62208, 4)\n",
      "(62208, 4)\n",
      "(62208, 4)\n",
      "(62208, 4)\n"
     ]
    }
   ],
   "source": [
    "# main()\n",
    "realign = Realign(\n",
    "    # r\"data\\sub-Ey153_ses-3_task-rest_acq-EPI_run-1_bold.nii.gz\",\n",
    "    r\"test.nii\",\n",
    "    degree=3,\n",
    "    iteration=4,\n",
    "    step=8,\n",
    "    alpha=0.15,\n",
    "    beta=1.65,\n",
    ")\n",
    "v = jax.vmap(realign.estimate, in_axes=0)(jnp.arange(1, 50))"
   ]
  },
  {
   "cell_type": "code",
   "execution_count": null,
   "id": "032632d0",
   "metadata": {},
   "outputs": [],
   "source": [
    "realign.draw_parameter(v)"
   ]
  },
  {
   "cell_type": "code",
   "execution_count": 7,
   "id": "471a74e8",
   "metadata": {},
   "outputs": [],
   "source": [
    "interpolator = itk.BSplineInterpolateImageFunction.New(data)\n",
    "# B样条插值器(B-spline interpolation)\n",
    "interpolator.SetSplineOrder(0)  # 设置B样条插值阶数(set B-spline"
   ]
  },
  {
   "cell_type": "code",
   "execution_count": null,
   "id": "c9b6e2c9",
   "metadata": {},
   "outputs": [],
   "source": [
    "bsp = BSpline(d[..., None], degree=0, mode=\"reflect\")"
   ]
  },
  {
   "cell_type": "code",
   "execution_count": 10,
   "id": "37ea87ec",
   "metadata": {},
   "outputs": [
    {
     "data": {
      "text/plain": [
       "Array(1833., dtype=float32)"
      ]
     },
     "execution_count": 10,
     "metadata": {},
     "output_type": "execute_result"
    }
   ],
   "source": [
    "bsp(jnp.array((1, 1, 1, 1)))"
   ]
  },
  {
   "cell_type": "code",
   "execution_count": null,
   "id": "739f230f",
   "metadata": {},
   "outputs": [
    {
     "data": {
      "text/plain": [
       "<Swig Object of type 'double *' at 0x000001C62FD5B5D0>"
      ]
     },
     "execution_count": 50,
     "metadata": {},
     "output_type": "execute_result"
    }
   ],
   "source": [
    "# interpolator.Evaluate(itk.Point[itk.D, 4]((0, 0, 0, 0)))\n",
    "from itk import itkContinuousIndexPython\n",
    "\n",
    "interpolator.EvaluateAtContinuousIndex(\n",
    "\n",
    ")\n",
    "itk.ContinuousIndex[itk.D, 4]((0, 0, 0, 0))\n",
    "# interpolator.GetEndContinuousIndex()\n",
    "# interpolator.GetStartContinuousIndex()\n",
    "# interpolator.GetSplineOrder()\n",
    "# interpolator.GetStartIndex()\n",
    "# interpolator.GetEndIndex()\n",
    "# itk.ContinuousIndex[itk.D, 4]((3, 3, 3, 3))"
   ]
  },
  {
   "cell_type": "code",
   "execution_count": 45,
   "id": "0e5e4053",
   "metadata": {},
   "outputs": [
    {
     "data": {
      "text/plain": [
       "(200, 64, 30, 96)"
      ]
     },
     "execution_count": 45,
     "metadata": {},
     "output_type": "execute_result"
    }
   ],
   "source": [
    "d.shape"
   ]
  },
  {
   "cell_type": "code",
   "execution_count": 34,
   "id": "bf25bdd2",
   "metadata": {},
   "outputs": [
    {
     "name": "stdout",
     "output_type": "stream",
     "text": [
      "itkVectorD4 ([1.5, 4.5, 1.50469, 2.5])\n",
      "itkContinuousIndexD4 ([-0.666667, 0, 0, 0])\n",
      "itkContinuousIndexD4 ([0, -0.222222, 0, 0])\n",
      "itkContinuousIndexD4 ([0, 0, 0.66459, 0])\n",
      "itkContinuousIndexD4 ([0, 0, 0, 0.4])\n"
     ]
    },
    {
     "data": {
      "text/plain": [
       "itkMatrixD44 ([[-1.0, 0.0, 0.0, 0.0], [0.0, -1.0, 0.0, 0.0], [0.0, 0.0, 1.0, 0.0], [0.0, 0.0, 0.0, 1.0]])"
      ]
     },
     "execution_count": 34,
     "metadata": {},
     "output_type": "execute_result"
    }
   ],
   "source": [
    "print(data.GetSpacing())  # 获取图像的空间分辨率\n",
    "print(\n",
    "    data.TransformPhysicalPointToContinuousIndex(\n",
    "        itk.Point[itk.D, 4]((1, 0, 0, 0)),\n",
    "    )\n",
    ")  # 物理坐标转换为连续索引)\n",
    "print(\n",
    "    data.TransformPhysicalPointToContinuousIndex(\n",
    "        itk.Point[itk.D, 4]((0, 1, 0, 0)),\n",
    "    )\n",
    ")  # 物理坐标转换为连续索引)\n",
    "print(\n",
    "    data.TransformPhysicalPointToContinuousIndex(\n",
    "        itk.Point[itk.D, 4]((0, 0, 1, 0)),\n",
    "    )\n",
    ")  # 物理坐标转换为连续索引)\n",
    "print(\n",
    "    data.TransformPhysicalPointToContinuousIndex(\n",
    "        itk.Point[itk.D, 4]((0, 0, 0, 1)),\n",
    "    )\n",
    ")  # 物理坐标转换为连续索引)\n",
    "\n",
    "data.GetDirection()"
   ]
  },
  {
   "cell_type": "code",
   "execution_count": null,
   "id": "ecf66100",
   "metadata": {},
   "outputs": [
    {
     "ename": "FileHolderError",
     "evalue": "No filename or fileobj present",
     "output_type": "error",
     "traceback": [
      "\u001b[31m---------------------------------------------------------------------------\u001b[39m",
      "\u001b[31mFileHolderError\u001b[39m                           Traceback (most recent call last)",
      "\u001b[36mCell\u001b[39m\u001b[36m \u001b[39m\u001b[32mIn[32]\u001b[39m\u001b[32m, line 2\u001b[39m\n\u001b[32m      1\u001b[39m img = nib.Nifti1Image(jnp.arange(\u001b[32m27\u001b[39m).reshape((\u001b[32m3\u001b[39m, \u001b[32m3\u001b[39m, \u001b[32m3\u001b[39m)), affine=jnp.eye(\u001b[32m4\u001b[39m))\n\u001b[32m----> \u001b[39m\u001b[32m2\u001b[39m \u001b[43mimg\u001b[49m\u001b[43m.\u001b[49m\u001b[43mto_file_map\u001b[49m\u001b[43m(\u001b[49m\u001b[43m)\u001b[49m\n\u001b[32m      4\u001b[39m img.file_map\n\u001b[32m      6\u001b[39m \u001b[38;5;66;03m# itk.img_from_array(jnp.arange(27).reshape((3, 3, 3)), is_vector=False)\u001b[39;00m\n\u001b[32m      7\u001b[39m \u001b[38;5;66;03m# itk.img_from_\u001b[39;00m\n\u001b[32m      8\u001b[39m \u001b[38;5;66;03m# interpolator2 = itk.BSplineInterpolateImageFunction.New(img)\u001b[39;00m\n\u001b[32m      9\u001b[39m \u001b[38;5;66;03m# # B样条插值器(B-spline interpolation)\u001b[39;00m\n\u001b[32m     10\u001b[39m \u001b[38;5;66;03m# interpolator2.SetSplineOrder(0)  # 设置B样条插值阶数(set B-spline\u001b[39;00m\n\u001b[32m     11\u001b[39m \u001b[38;5;66;03m# jnp.stack(jnp.indices((3, 3)), axis=-1)\u001b[39;00m\n",
      "\u001b[36mFile \u001b[39m\u001b[32mc:\\Users\\tianl\\AppData\\Local\\Programs\\Python\\Python313\\Lib\\site-packages\\nibabel\\nifti1.py:2377\u001b[39m, in \u001b[36mNifti1Pair.to_file_map\u001b[39m\u001b[34m(self, file_map, dtype)\u001b[39m\n\u001b[32m   2375\u001b[39m \u001b[38;5;28mself\u001b[39m.get_data_dtype(finalize=\u001b[38;5;28;01mTrue\u001b[39;00m)\n\u001b[32m   2376\u001b[39m \u001b[38;5;28;01mtry\u001b[39;00m:\n\u001b[32m-> \u001b[39m\u001b[32m2377\u001b[39m     \u001b[38;5;28;43msuper\u001b[39;49m\u001b[43m(\u001b[49m\u001b[43m)\u001b[49m\u001b[43m.\u001b[49m\u001b[43mto_file_map\u001b[49m\u001b[43m(\u001b[49m\u001b[43mfile_map\u001b[49m\u001b[43m,\u001b[49m\u001b[43m \u001b[49m\u001b[43mdtype\u001b[49m\u001b[43m)\u001b[49m\n\u001b[32m   2378\u001b[39m \u001b[38;5;28;01mfinally\u001b[39;00m:\n\u001b[32m   2379\u001b[39m     \u001b[38;5;28mself\u001b[39m.set_data_dtype(img_dtype)\n",
      "\u001b[36mFile \u001b[39m\u001b[32mc:\\Users\\tianl\\AppData\\Local\\Programs\\Python\\Python313\\Lib\\site-packages\\nibabel\\analyze.py:1040\u001b[39m, in \u001b[36mAnalyzeImage.to_file_map\u001b[39m\u001b[34m(self, file_map, dtype)\u001b[39m\n\u001b[32m   1036\u001b[39m \u001b[38;5;66;03m# Check if hdr and img refer to same file; this can happen with odd\u001b[39;00m\n\u001b[32m   1037\u001b[39m \u001b[38;5;66;03m# analyze images but most often this is because it's a single nifti\u001b[39;00m\n\u001b[32m   1038\u001b[39m \u001b[38;5;66;03m# file\u001b[39;00m\n\u001b[32m   1039\u001b[39m hdr_img_same = hdr_fh.same_file_as(img_fh)\n\u001b[32m-> \u001b[39m\u001b[32m1040\u001b[39m hdrf = \u001b[43mhdr_fh\u001b[49m\u001b[43m.\u001b[49m\u001b[43mget_prepare_fileobj\u001b[49m\u001b[43m(\u001b[49m\u001b[43mmode\u001b[49m\u001b[43m=\u001b[49m\u001b[33;43m'\u001b[39;49m\u001b[33;43mwb\u001b[39;49m\u001b[33;43m'\u001b[39;49m\u001b[43m)\u001b[49m\n\u001b[32m   1041\u001b[39m \u001b[38;5;28;01mif\u001b[39;00m hdr_img_same:\n\u001b[32m   1042\u001b[39m     imgf = hdrf\n",
      "\u001b[36mFile \u001b[39m\u001b[32mc:\\Users\\tianl\\AppData\\Local\\Programs\\Python\\Python313\\Lib\\site-packages\\nibabel\\fileholders.py:81\u001b[39m, in \u001b[36mFileHolder.get_prepare_fileobj\u001b[39m\u001b[34m(self, *args, **kwargs)\u001b[39m\n\u001b[32m     79\u001b[39m         obj.seek(\u001b[38;5;28mself\u001b[39m.pos)\n\u001b[32m     80\u001b[39m \u001b[38;5;28;01melse\u001b[39;00m:\n\u001b[32m---> \u001b[39m\u001b[32m81\u001b[39m     \u001b[38;5;28;01mraise\u001b[39;00m FileHolderError(\u001b[33m'\u001b[39m\u001b[33mNo filename or fileobj present\u001b[39m\u001b[33m'\u001b[39m)\n\u001b[32m     82\u001b[39m \u001b[38;5;28;01mreturn\u001b[39;00m obj\n",
      "\u001b[31mFileHolderError\u001b[39m: No filename or fileobj present"
     ]
    }
   ],
   "source": [
    "img = nib.Nifti1Image(jnp.arange(27).reshape((3, 3, 3)), affine=jnp.eye(4))\n",
    "img.file\n",
    "img.to_file_map()\n",
    "\n",
    "img.file_map\n",
    "itk.stream\n",
    "# itk.img_from_array(jnp.arange(27).reshape((3, 3, 3)), is_vector=False)\n",
    "# itk.img_from_\n",
    "# interpolator2 = itk.BSplineInterpolateImageFunction.New(img)\n",
    "# # B样条插值器(B-spline interpolation)\n",
    "# interpolator2.SetSplineOrder(0)  # 设置B样条插值阶数(set B-spline\n",
    "# jnp.stack(jnp.indices((3, 3)), axis=-1)"
   ]
  }
 ],
 "metadata": {
  "kernelspec": {
   "display_name": "Python 3",
   "language": "python",
   "name": "python3"
  },
  "language_info": {
   "codemirror_mode": {
    "name": "ipython",
    "version": 3
   },
   "file_extension": ".py",
   "mimetype": "text/x-python",
   "name": "python",
   "nbconvert_exporter": "python",
   "pygments_lexer": "ipython3",
   "version": "3.13.3"
  }
 },
 "nbformat": 4,
 "nbformat_minor": 5
}
